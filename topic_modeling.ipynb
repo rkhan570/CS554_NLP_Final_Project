{
 "cells": [
  {
   "cell_type": "code",
   "execution_count": 54,
   "metadata": {},
   "outputs": [
    {
     "name": "stderr",
     "output_type": "stream",
     "text": [
      "[nltk_data] Downloading package stopwords to\n",
      "[nltk_data]     C:\\Users\\alche\\AppData\\Roaming\\nltk_data...\n",
      "[nltk_data]   Package stopwords is already up-to-date!\n"
     ]
    }
   ],
   "source": [
    "import pandas as pd\n",
    "import re\n",
    "import nltk\n",
    "from sklearn.feature_extraction.text import TfidfVectorizer\n",
    "from sklearn.decomposition import LatentDirichletAllocation\n",
    "from nltk.corpus import stopwords\n",
    "from transformers import pipeline\n",
    "\n",
    "nltk.download('stopwords')\n",
    "stop_words = set(stopwords.words('english'))\n"
   ]
  },
  {
   "cell_type": "markdown",
   "metadata": {},
   "source": [
    "# Topic Modeling"
   ]
  },
  {
   "cell_type": "code",
   "execution_count": 55,
   "metadata": {},
   "outputs": [],
   "source": [
    "df = pd.read_parquet(\"datasets/cleaned_datasets/final_dataset_philly.parquet\")\n",
    "\n",
    "# print(df.head())\n",
    "# print(df.columns)\n"
   ]
  },
  {
   "cell_type": "code",
   "execution_count": 56,
   "metadata": {},
   "outputs": [],
   "source": [
    "df['date'] = pd.to_datetime(df['date'])\n",
    "df['year'] = df['date'].dt.year\n",
    "df['quarter'] = df['date'].dt.to_period('Q')\n"
   ]
  },
  {
   "cell_type": "code",
   "execution_count": 57,
   "metadata": {},
   "outputs": [],
   "source": [
    "def clean_text(text):\n",
    "    text = text.lower()\n",
    "    text = re.sub(r'\\d+', '', text)\n",
    "    text = re.sub(r'[^\\w\\s]', '', text)\n",
    "    text = re.sub(r'\\s+', ' ', text).strip()\n",
    "    return text\n",
    "\n",
    "df['clean_text'] = df['text'].apply(clean_text)\n"
   ]
  },
  {
   "cell_type": "code",
   "execution_count": 58,
   "metadata": {},
   "outputs": [
    {
     "name": "stdout",
     "output_type": "stream",
     "text": [
      "                review_id                                         clean_text  \\\n",
      "0  J1LZjzbs5bFubvS135SD2g  had a great big meal with family and we loved ...   \n",
      "1  ecMiAOFucDM3zwXYfY-Q6A  many locations all have lines so be prepared t...   \n",
      "2  yuFQRhHo3z4TgE6drPXSgg  compliments to the chef and to the rest of the...   \n",
      "3  Zdh0_HtE724MnohLOrB5Iw  i decided to try this spot out and it didnt di...   \n",
      "4  y_XYEZk2Cin-q4N0czeaYw  first off finding parking is atrocious your be...   \n",
      "\n",
      "                                              tokens  \n",
      "0  [great, big, meal, family, loved, got, lot, ap...  \n",
      "1  [many, locations, lines, prepared, wait, well,...  \n",
      "2  [compliments, chef, rest, staff, hosting, lab,...  \n",
      "3  [decided, try, spot, didnt, disappoint, starte...  \n",
      "4  [first, finding, parking, atrocious, best, bet...  \n"
     ]
    }
   ],
   "source": [
    "df['tokens'] = df['clean_text'].apply(lambda x: [word for word in x.split() if word not in stop_words and len(word) > 2])\n",
    "print(df[['review_id', 'clean_text', 'tokens']].head())\n"
   ]
  },
  {
   "cell_type": "code",
   "execution_count": 63,
   "metadata": {},
   "outputs": [],
   "source": [
    "vectorizer = TfidfVectorizer(max_df=0.95, min_df=5, max_features=10000, ngram_range=(1,2))"
   ]
  },
  {
   "cell_type": "code",
   "execution_count": 68,
   "metadata": {},
   "outputs": [
    {
     "name": "stderr",
     "output_type": "stream",
     "text": [
      "Device set to use cpu\n"
     ]
    }
   ],
   "source": [
    "generator = pipeline(\"text2text-generation\", model=\"google/flan-t5-base\")"
   ]
  },
  {
   "cell_type": "code",
   "execution_count": 69,
   "metadata": {},
   "outputs": [
    {
     "name": "stdout",
     "output_type": "stream",
     "text": [
      "\n",
      "Processing topics for year: 2020\n",
      "Year 2020 - Topic 1: ['they', 'money', 'if', 'this', 'the', 'is', 'your', 'not', 'dont', 'you']\n",
      "  Suggested label: if\n",
      "\n",
      "Year 2020 - Topic 2: ['with', 'car', 'in', 'they', 'he', 'my', 'was', 'to', 'the', 'and']\n",
      "  Suggested label: he\n",
      "\n",
      "Year 2020 - Topic 3: ['in', 'for', 'me', 'she', 'of', 'was', 'my', 'and', 'to', 'the']\n",
      "  Suggested label: was\n",
      "\n",
      "Year 2020 - Topic 4: ['place', 'are', 'for', 'of', 'food', 'to', 'great', 'is', 'and', 'the']\n",
      "  Suggested label: great\n",
      "\n",
      "Year 2020 - Topic 5: ['love', 'best', 'great', 'to', 'in', 'always', 'are', 'and', 'is', 'the']\n",
      "  Suggested label: love\n",
      "\n",
      "Year 2020 - Topic 6: ['were', 'for', 'but', 'with', 'to', 'of', 'it', 'was', 'and', 'the']\n",
      "  Suggested label: was\n",
      "\n",
      "Year 2020 - Topic 7: ['it', 'us', 'for', 'were', 'to', 'our', 'and', 'was', 'we', 'the']\n",
      "  Suggested label: it\n",
      "\n",
      "Year 2020 - Topic 8: ['no', 'it', 'me', 'my', 'was', 'they', 'and', 'order', 'to', 'the']\n",
      "  Suggested label: it\n",
      "\n",
      "Year 2020 - Topic 9: ['delivery', 'ive', 'delicious', 'is', 'the best', 'chicken', 'food', 'best', 'and', 'the']\n",
      "  Suggested label: ive delivered chicken\n",
      "\n",
      "Year 2020 - Topic 10: ['color and', 'hair cut', 'happier', 'be happier', 'color', 'haircut', 'cut', 'salon', 'my hair', 'hair']\n",
      "  Suggested label: be happier\n",
      "\n",
      "\n",
      "Processing topics for year: 2021\n",
      "Year 2021 - Topic 1: ['sugar', 'milk tea', 'banh mi', 'bubble tea', 'bubble', 'banh', 'milk', 'boba', 'mi', 'tea']\n",
      "  Suggested label: bubble tea\n",
      "\n",
      "Year 2021 - Topic 2: ['friendly', 'definitely', 'delicious', 'was', 'amazing', 'the', 'and', 'service', 'great', 'food']\n",
      "  Suggested label: great food\n",
      "\n",
      "Year 2021 - Topic 3: ['dumplings were', 'pork soup', 'dumpling', 'dumplings and', 'soup', 'soup dumplings', 'dumplings', 'dim sum', 'dim', 'sum']\n",
      "  Suggested label: dim sum\n",
      "\n",
      "Year 2021 - Topic 4: ['of', 'in', 'is', 'with', 'for', 'was', 'my', 'to', 'the', 'and']\n",
      "  Suggested label: my\n",
      "\n",
      "Year 2021 - Topic 5: ['for', 'in', 'that', 'me', 'was', 'my', 'they', 'and', 'to', 'the']\n",
      "  Suggested label: i was\n",
      "\n",
      "Year 2021 - Topic 6: ['for', 'us', 'food', 'to', 'were', 'our', 'and', 'was', 'the', 'we']\n",
      "  Suggested label: food\n",
      "\n",
      "Year 2021 - Topic 7: ['place', 'great', 'you', 'in', 'of', 'to', 'are', 'and', 'is', 'the']\n",
      "  Suggested label: great\n",
      "\n",
      "Year 2021 - Topic 8: ['knowledgeable', 'recommend', 'great', 'courteous', 'fast', 'efficient', 'friendly', 'quick', 'very', 'professional']\n",
      "  Suggested label: recommend\n",
      "\n",
      "Year 2021 - Topic 9: ['but', 'we', 'to', 'were', 'with', 'of', 'it', 'was', 'and', 'the']\n",
      "  Suggested label: was\n",
      "\n",
      "Year 2021 - Topic 10: ['for', 'of', 'not', 'is', 'but', 'was', 'it', 'and', 'to', 'the']\n",
      "  Suggested label: it\n",
      "\n",
      "\n",
      "Processing topics for year: 2022\n",
      "Year 2022 - Topic 1: ['thru', 'and simple', 'job with', 'professionalism', 'cannolis', 'call to', 'at reasonable', 'worth every', 'color and', 'nice staff']\n",
      "  Suggested label: cannolis\n",
      "\n",
      "Year 2022 - Topic 2: ['will absolutely', 'food here', 'authentic philly', 'gym', 'our anniversary', 'anniversary', 'and comfortable', 'kabob', 'manayunk', 'package']\n",
      "  Suggested label: kabob\n",
      "\n",
      "Year 2022 - Topic 3: ['be great', 'the chai', 'to recommend', 'and wow', 'been my', 'atmosphere the', 'my preference', 'jelly', 'okay nothing', 'meat is']\n",
      "  Suggested label: chai\n",
      "\n",
      "Year 2022 - Topic 4: ['quick service', 'spaces', 'slow and', 'belly', 'bao', 'floors', 'to grab', 'is incredible', 'tour', 'vietnamese']\n",
      "  Suggested label: a tour of vietnamese belly\n",
      "\n",
      "Year 2022 - Topic 5: ['on tap', 'pastrami', 'recommend for', 'me feel', 'disappoints', 'never disappoints', 'gluten free', 'dentist', 'gluten', 'efficient and']\n",
      "  Suggested label: gluten free pastrami\n",
      "\n",
      "Year 2022 - Topic 6: ['right away', 'turned', 'warm and', 'experience the', 'slice of', 'the name', 'atmosphere was', 'fire', 'such great', 'in their']\n",
      "  Suggested label: the atmosphere was\n",
      "\n",
      "Year 2022 - Topic 7: ['my', 'in', 'for', 'it', 'of', 'is', 'was', 'to', 'and', 'the']\n",
      "  Suggested label: my\n",
      "\n",
      "Year 2022 - Topic 8: ['will try', 'pleasure to', 'thankful', 'tasty food', 'venmo', 'moms', 'excellent food', 'the cheesesteaks', 'birria tacos', 'bagels and']\n",
      "  Suggested label: venmo\n",
      "\n",
      "Year 2022 - Topic 9: ['favor and', 'books', 'days the', 'super fresh', 'served on', 'deep fried', 'damaged', 'roll was', 'manicure', 'egg and']\n",
      "  Suggested label: a book\n",
      "\n",
      "Year 2022 - Topic 10: ['problem and', 'are getting', 'fees', 'and calm', 'owner is', 'efficiently', 'vet', 'did great', 'craft', 'the problem']\n",
      "  Suggested label: a problem\n",
      "\n"
     ]
    }
   ],
   "source": [
    "topics_by_year = {}\n",
    "n_topics = 10\n",
    "\n",
    "for year, group in df.groupby('year'):\n",
    "    print(f\"\\nProcessing topics for year: {year}\")\n",
    "    texts = group['clean_text']\n",
    "    dtm_year = vectorizer.fit_transform(texts)\n",
    "    \n",
    "    lda = LatentDirichletAllocation(n_components=n_topics, random_state=42, max_iter=10)\n",
    "    lda.fit(dtm_year)\n",
    "    \n",
    "    feature_names = vectorizer.get_feature_names_out()\n",
    "    topics = {}\n",
    "    \n",
    "    for idx, topic in enumerate(lda.components_):\n",
    "        top_indices = topic.argsort()[-10:]\n",
    "        top_words = [feature_names[i] for i in top_indices]\n",
    "        topics[f\"Topic {idx+1}\"] = top_words\n",
    "        \n",
    "        prompt = (\n",
    "            f\"Given the topic words: {', '.join(top_words)},\\n\"\n",
    "            \"provide a concise one or two word label that best describes the topic.\"\n",
    "        )\n",
    "        \n",
    "        response = generator(prompt, max_length=20, truncation=True, do_sample=False)[0]['generated_text']\n",
    "        best_label = response.split('\\n')[0].strip().strip(\".\")\n",
    "\n",
    "        print(f\"Year {year} - Topic {idx+1}: {top_words}\")\n",
    "        print(f\"  Suggested label: {best_label}\\n\")\n",
    "    \n",
    "    topics_by_year[year] = topics"
   ]
  },
  {
   "cell_type": "code",
   "execution_count": 61,
   "metadata": {},
   "outputs": [
    {
     "name": "stdout",
     "output_type": "stream",
     "text": [
      "\n",
      "Year: 2020\n",
      "  Topic 1: ['they', 'money', 'if', 'this', 'the', 'is', 'your', 'not', 'dont', 'you']\n",
      "  Topic 2: ['with', 'car', 'in', 'they', 'he', 'my', 'was', 'to', 'the', 'and']\n",
      "  Topic 3: ['in', 'for', 'me', 'she', 'of', 'was', 'my', 'and', 'to', 'the']\n",
      "  Topic 4: ['place', 'are', 'for', 'of', 'food', 'to', 'great', 'is', 'and', 'the']\n",
      "  Topic 5: ['love', 'best', 'great', 'to', 'in', 'always', 'are', 'and', 'is', 'the']\n",
      "  Topic 6: ['were', 'for', 'but', 'with', 'to', 'of', 'it', 'was', 'and', 'the']\n",
      "  Topic 7: ['it', 'us', 'for', 'were', 'to', 'our', 'and', 'was', 'we', 'the']\n",
      "  Topic 8: ['no', 'it', 'me', 'my', 'was', 'they', 'and', 'order', 'to', 'the']\n",
      "  Topic 9: ['delivery', 'ive', 'delicious', 'is', 'the best', 'chicken', 'food', 'best', 'and', 'the']\n",
      "  Topic 10: ['color and', 'hair cut', 'happier', 'be happier', 'color', 'haircut', 'cut', 'salon', 'my hair', 'hair']\n",
      "\n",
      "Year: 2021\n",
      "  Topic 1: ['sugar', 'milk tea', 'banh mi', 'bubble tea', 'bubble', 'banh', 'milk', 'boba', 'mi', 'tea']\n",
      "  Topic 2: ['friendly', 'definitely', 'delicious', 'was', 'amazing', 'the', 'and', 'service', 'great', 'food']\n",
      "  Topic 3: ['dumplings were', 'pork soup', 'dumpling', 'dumplings and', 'soup', 'soup dumplings', 'dumplings', 'dim sum', 'dim', 'sum']\n",
      "  Topic 4: ['of', 'in', 'is', 'with', 'for', 'was', 'my', 'to', 'the', 'and']\n",
      "  Topic 5: ['for', 'in', 'that', 'me', 'was', 'my', 'they', 'and', 'to', 'the']\n",
      "  Topic 6: ['for', 'us', 'food', 'to', 'were', 'our', 'and', 'was', 'the', 'we']\n",
      "  Topic 7: ['place', 'great', 'you', 'in', 'of', 'to', 'are', 'and', 'is', 'the']\n",
      "  Topic 8: ['knowledgeable', 'recommend', 'great', 'courteous', 'fast', 'efficient', 'friendly', 'quick', 'very', 'professional']\n",
      "  Topic 9: ['but', 'we', 'to', 'were', 'with', 'of', 'it', 'was', 'and', 'the']\n",
      "  Topic 10: ['for', 'of', 'not', 'is', 'but', 'was', 'it', 'and', 'to', 'the']\n",
      "\n",
      "Year: 2022\n",
      "  Topic 1: ['thru', 'and simple', 'job with', 'professionalism', 'cannolis', 'call to', 'at reasonable', 'worth every', 'color and', 'nice staff']\n",
      "  Topic 2: ['will absolutely', 'food here', 'authentic philly', 'gym', 'our anniversary', 'anniversary', 'and comfortable', 'kabob', 'manayunk', 'package']\n",
      "  Topic 3: ['be great', 'the chai', 'to recommend', 'and wow', 'been my', 'atmosphere the', 'my preference', 'jelly', 'okay nothing', 'meat is']\n",
      "  Topic 4: ['quick service', 'spaces', 'slow and', 'belly', 'bao', 'floors', 'to grab', 'is incredible', 'tour', 'vietnamese']\n",
      "  Topic 5: ['on tap', 'pastrami', 'recommend for', 'me feel', 'disappoints', 'never disappoints', 'gluten free', 'dentist', 'gluten', 'efficient and']\n",
      "  Topic 6: ['right away', 'turned', 'warm and', 'experience the', 'slice of', 'the name', 'atmosphere was', 'fire', 'such great', 'in their']\n",
      "  Topic 7: ['my', 'in', 'for', 'it', 'of', 'is', 'was', 'to', 'and', 'the']\n",
      "  Topic 8: ['will try', 'pleasure to', 'thankful', 'tasty food', 'venmo', 'moms', 'excellent food', 'the cheesesteaks', 'birria tacos', 'bagels and']\n",
      "  Topic 9: ['favor and', 'books', 'days the', 'super fresh', 'served on', 'deep fried', 'damaged', 'roll was', 'manicure', 'egg and']\n",
      "  Topic 10: ['problem and', 'are getting', 'fees', 'and calm', 'owner is', 'efficiently', 'vet', 'did great', 'craft', 'the problem']\n"
     ]
    }
   ],
   "source": [
    "for year, topics in topics_by_year.items():\n",
    "    print(f\"\\nYear: {year}\")\n",
    "    for topic, words in topics.items():\n",
    "        print(f\"  {topic}: {words}\")"
   ]
  }
 ],
 "metadata": {
  "kernelspec": {
   "display_name": "Python 3",
   "language": "python",
   "name": "python3"
  },
  "language_info": {
   "codemirror_mode": {
    "name": "ipython",
    "version": 3
   },
   "file_extension": ".py",
   "mimetype": "text/x-python",
   "name": "python",
   "nbconvert_exporter": "python",
   "pygments_lexer": "ipython3",
   "version": "3.12.3"
  }
 },
 "nbformat": 4,
 "nbformat_minor": 2
}
