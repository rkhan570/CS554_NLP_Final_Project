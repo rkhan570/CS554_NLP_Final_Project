{
 "cells": [
  {
   "cell_type": "markdown",
   "metadata": {},
   "source": [
    "This is the extension of the topic_modeling.ipynb. This extension utilizes BertTopic"
   ]
  },
  {
   "cell_type": "code",
   "execution_count": null,
   "metadata": {},
   "outputs": [],
   "source": [
    "import pandas as pd\n",
    "import nltk\n",
    "from IPython.display import display\n",
    "import plotly.io as pio\n",
    "\n",
    "nltk.download('punkt')\n",
    "pio.renderers.default = \"notebook\""
   ]
  },
  {
   "cell_type": "code",
   "execution_count": null,
   "metadata": {},
   "outputs": [],
   "source": [
    "df = pd.read_parquet(\"../datasets/cleaned_datasets/demographic_infused_philly_c.parquet\")\n",
    "df['date'] = pd.to_datetime(df['date'])\n",
    "\n",
    "print(df.head())\n",
    "print(df.columns)\n",
    "\n",
    "unique_zip_codes = df['area_code'].unique()\n",
    "unique_zip_codes\n"
   ]
  },
  {
   "cell_type": "code",
   "execution_count": null,
   "metadata": {},
   "outputs": [],
   "source": [
    "from bertopic import BERTopic"
   ]
  },
  {
   "cell_type": "code",
   "execution_count": null,
   "metadata": {},
   "outputs": [],
   "source": [
    "for zip_code in unique_zip_codes:\n",
    "    df_zip = df[df['area_code'] == zip_code]\n",
    "    docs = df_zip['clean_text'].tolist()\n",
    "    \n",
    "    if not docs:\n",
    "        continue\n",
    "\n",
    "    print(f\"\\nBERTopic Analysis for Area Code: {zip_code}\")\n",
    "    try:\n",
    "        topic_model = BERTopic()\n",
    "        topics, probabilities = topic_model.fit_transform(docs)\n",
    "        print(topic_model.get_topic_info())\n",
    "        fig = topic_model.visualize_topics()\n",
    "        fig.show(renderer=\"notebook\")  \n",
    "        fig1 = topic_model.visualize_barchart()\n",
    "        fig1.show(renderer=\"notebook\")  \n",
    "        fig2 = topic_model.visualize_heatmap()\n",
    "        fig2.show(renderer=\"notebook\") \n",
    "        fig3 = topic_model.visualize_term_rank()\n",
    "        fig3.show(renderer=\"notebook\") \n",
    "    except Exception as e:\n",
    "        print(f\"BERTopic failed for Area code {zip_code} with error: {e}\")"
   ]
  }
 ],
 "metadata": {
  "kernelspec": {
   "display_name": "newenv",
   "language": "python",
   "name": "python3"
  },
  "language_info": {
   "codemirror_mode": {
    "name": "ipython",
    "version": 3
   },
   "file_extension": ".py",
   "mimetype": "text/x-python",
   "name": "python",
   "nbconvert_exporter": "python",
   "pygments_lexer": "ipython3",
   "version": "3.12.3"
  }
 },
 "nbformat": 4,
 "nbformat_minor": 2
}
